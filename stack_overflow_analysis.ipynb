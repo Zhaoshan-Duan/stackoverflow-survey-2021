{
 "cells": [
  {
   "cell_type": "markdown",
   "id": "410614ac-a4d3-4943-9959-35f2bcf63cd4",
   "metadata": {},
   "source": [
    "# Stack Overflow Survey Results 2021 Analysis"
   ]
  },
  {
   "cell_type": "code",
   "execution_count": 1,
   "id": "60634040-8927-4f2b-9a92-3854b3522e73",
   "metadata": {},
   "outputs": [],
   "source": [
    "import pandas as pd"
   ]
  },
  {
   "cell_type": "code",
   "execution_count": 2,
   "id": "b96d34e6-8675-41a5-9b31-f045d55c00ba",
   "metadata": {},
   "outputs": [],
   "source": [
    "df = pd.read_csv('data/survey_results_public.csv', index_col='ResponseId')\n",
    "schema_df = pd.read_csv('data/survey_results_schema.csv',index_col='qname')"
   ]
  },
  {
   "cell_type": "markdown",
   "id": "c8f4a22f-ec00-4be0-9c7e-785cdb32739f",
   "metadata": {},
   "source": [
    "## Explore \n",
    "\n",
    "What languages are earning higher salaries ?"
   ]
  },
  {
   "cell_type": "code",
   "execution_count": 3,
   "id": "92fbaf47-b4e9-4d88-ad0d-02abcfb4ae3a",
   "metadata": {},
   "outputs": [],
   "source": [
    "high_salary = (df['ConvertedCompYearly'] > 70000)"
   ]
  },
  {
   "cell_type": "code",
   "execution_count": 4,
   "id": "69038246-893e-44b5-9cb4-e7677594f61e",
   "metadata": {},
   "outputs": [
    {
     "data": {
      "text/html": [
       "<div>\n",
       "<style scoped>\n",
       "    .dataframe tbody tr th:only-of-type {\n",
       "        vertical-align: middle;\n",
       "    }\n",
       "\n",
       "    .dataframe tbody tr th {\n",
       "        vertical-align: top;\n",
       "    }\n",
       "\n",
       "    .dataframe thead th {\n",
       "        text-align: right;\n",
       "    }\n",
       "</style>\n",
       "<table border=\"1\" class=\"dataframe\">\n",
       "  <thead>\n",
       "    <tr style=\"text-align: right;\">\n",
       "      <th></th>\n",
       "      <th>Country</th>\n",
       "      <th>LanguageHaveWorkedWith</th>\n",
       "      <th>ConvertedCompYearly</th>\n",
       "    </tr>\n",
       "    <tr>\n",
       "      <th>ResponseId</th>\n",
       "      <th></th>\n",
       "      <th></th>\n",
       "      <th></th>\n",
       "    </tr>\n",
       "  </thead>\n",
       "  <tbody>\n",
       "    <tr>\n",
       "      <th>13</th>\n",
       "      <td>Germany</td>\n",
       "      <td>C;C++;Java;Perl;Ruby</td>\n",
       "      <td>77290.0</td>\n",
       "    </tr>\n",
       "    <tr>\n",
       "      <th>19</th>\n",
       "      <td>Singapore</td>\n",
       "      <td>C++;Python</td>\n",
       "      <td>160932.0</td>\n",
       "    </tr>\n",
       "    <tr>\n",
       "      <th>25</th>\n",
       "      <td>Germany</td>\n",
       "      <td>C++;HTML/CSS;Java;JavaScript;Kotlin;Node.js;Ty...</td>\n",
       "      <td>77831.0</td>\n",
       "    </tr>\n",
       "    <tr>\n",
       "      <th>27</th>\n",
       "      <td>Switzerland</td>\n",
       "      <td>C++;Python</td>\n",
       "      <td>81319.0</td>\n",
       "    </tr>\n",
       "    <tr>\n",
       "      <th>32</th>\n",
       "      <td>Israel</td>\n",
       "      <td>Bash/Shell;Go;Java;Node.js;Python;Scala;SQL</td>\n",
       "      <td>122580.0</td>\n",
       "    </tr>\n",
       "    <tr>\n",
       "      <th>...</th>\n",
       "      <td>...</td>\n",
       "      <td>...</td>\n",
       "      <td>...</td>\n",
       "    </tr>\n",
       "    <tr>\n",
       "      <th>83431</th>\n",
       "      <td>United States of America</td>\n",
       "      <td>APL;Clojure;LISP;Python;Ruby;SQL;TypeScript</td>\n",
       "      <td>125000.0</td>\n",
       "    </tr>\n",
       "    <tr>\n",
       "      <th>83433</th>\n",
       "      <td>Canada</td>\n",
       "      <td>Ruby</td>\n",
       "      <td>80169.0</td>\n",
       "    </tr>\n",
       "    <tr>\n",
       "      <th>83435</th>\n",
       "      <td>United States of America</td>\n",
       "      <td>Clojure;Kotlin;SQL</td>\n",
       "      <td>160500.0</td>\n",
       "    </tr>\n",
       "    <tr>\n",
       "      <th>83437</th>\n",
       "      <td>United States of America</td>\n",
       "      <td>Groovy;Java;Python</td>\n",
       "      <td>90000.0</td>\n",
       "    </tr>\n",
       "    <tr>\n",
       "      <th>83438</th>\n",
       "      <td>Canada</td>\n",
       "      <td>Bash/Shell;JavaScript;Node.js;Python</td>\n",
       "      <td>816816.0</td>\n",
       "    </tr>\n",
       "  </tbody>\n",
       "</table>\n",
       "<p>18793 rows × 3 columns</p>\n",
       "</div>"
      ],
      "text/plain": [
       "                             Country  \\\n",
       "ResponseId                             \n",
       "13                           Germany   \n",
       "19                         Singapore   \n",
       "25                           Germany   \n",
       "27                       Switzerland   \n",
       "32                            Israel   \n",
       "...                              ...   \n",
       "83431       United States of America   \n",
       "83433                         Canada   \n",
       "83435       United States of America   \n",
       "83437       United States of America   \n",
       "83438                         Canada   \n",
       "\n",
       "                                       LanguageHaveWorkedWith  \\\n",
       "ResponseId                                                      \n",
       "13                                       C;C++;Java;Perl;Ruby   \n",
       "19                                                 C++;Python   \n",
       "25          C++;HTML/CSS;Java;JavaScript;Kotlin;Node.js;Ty...   \n",
       "27                                                 C++;Python   \n",
       "32                Bash/Shell;Go;Java;Node.js;Python;Scala;SQL   \n",
       "...                                                       ...   \n",
       "83431             APL;Clojure;LISP;Python;Ruby;SQL;TypeScript   \n",
       "83433                                                    Ruby   \n",
       "83435                                      Clojure;Kotlin;SQL   \n",
       "83437                                      Groovy;Java;Python   \n",
       "83438                    Bash/Shell;JavaScript;Node.js;Python   \n",
       "\n",
       "            ConvertedCompYearly  \n",
       "ResponseId                       \n",
       "13                      77290.0  \n",
       "19                     160932.0  \n",
       "25                      77831.0  \n",
       "27                      81319.0  \n",
       "32                     122580.0  \n",
       "...                         ...  \n",
       "83431                  125000.0  \n",
       "83433                   80169.0  \n",
       "83435                  160500.0  \n",
       "83437                   90000.0  \n",
       "83438                  816816.0  \n",
       "\n",
       "[18793 rows x 3 columns]"
      ]
     },
     "execution_count": 4,
     "metadata": {},
     "output_type": "execute_result"
    }
   ],
   "source": [
    "df.loc[high_salary,['Country','LanguageHaveWorkedWith','ConvertedCompYearly']]"
   ]
  },
  {
   "cell_type": "code",
   "execution_count": 5,
   "id": "c15645ef-5d2b-4714-bf1b-70fb034c42ac",
   "metadata": {},
   "outputs": [],
   "source": [
    "countries = ['United States of America', 'India', 'Germany', 'United Kingdom of Great Britain and Northern Ireland', 'Canada']"
   ]
  },
  {
   "cell_type": "code",
   "execution_count": 10,
   "id": "c9ef2e15-7083-478f-b67e-3b610d1ae1ee",
   "metadata": {},
   "outputs": [
    {
     "data": {
      "text/plain": [
       "ResponseId\n",
       "5        United Kingdom of Great Britain and Northern I...\n",
       "6                                 United States of America\n",
       "7                                 United States of America\n",
       "9                                                    India\n",
       "11       United Kingdom of Great Britain and Northern I...\n",
       "                               ...                        \n",
       "83431                             United States of America\n",
       "83433                                               Canada\n",
       "83435                             United States of America\n",
       "83437                             United States of America\n",
       "83438                                               Canada\n",
       "Name: Country, Length: 38911, dtype: object"
      ]
     },
     "execution_count": 10,
     "metadata": {},
     "output_type": "execute_result"
    }
   ],
   "source": [
    "filt = df['Country'].isin(countries)\n",
    "df.loc[filt, 'Country']"
   ]
  },
  {
   "cell_type": "code",
   "execution_count": 11,
   "id": "5ece461b-c259-4bda-b023-487dbd3cb438",
   "metadata": {},
   "outputs": [],
   "source": [
    "lang_filt = df['LanguageHaveWorkedWith'].str.contains('Python',na=False)"
   ]
  },
  {
   "cell_type": "code",
   "execution_count": 12,
   "id": "03c88ef6-4afa-401a-a521-3002561ff8d0",
   "metadata": {},
   "outputs": [
    {
     "data": {
      "text/plain": [
       "ResponseId\n",
       "2                                        JavaScript;Python\n",
       "3                                 Assembly;C;Python;R;Rust\n",
       "5                           Bash/Shell;HTML/CSS;Python;SQL\n",
       "6        C;C#;C++;HTML/CSS;Java;JavaScript;Node.js;Powe...\n",
       "10                                              C++;Python\n",
       "                               ...                        \n",
       "83430               HTML/CSS;PHP;PowerShell;Python;SQL;VBA\n",
       "83431          APL;Clojure;LISP;Python;Ruby;SQL;TypeScript\n",
       "83432    C#;Dart;HTML/CSS;Java;JavaScript;Kotlin;Node.j...\n",
       "83437                                   Groovy;Java;Python\n",
       "83438                 Bash/Shell;JavaScript;Node.js;Python\n",
       "Name: LanguageHaveWorkedWith, Length: 39792, dtype: object"
      ]
     },
     "execution_count": 12,
     "metadata": {},
     "output_type": "execute_result"
    }
   ],
   "source": [
    "df.loc[lang_filt,'LanguageHaveWorkedWith']"
   ]
  },
  {
   "cell_type": "code",
   "execution_count": 13,
   "id": "b99d5091-f8e4-4c6b-846d-76cb796a84ad",
   "metadata": {},
   "outputs": [],
   "source": [
    "df.rename(columns = {\n",
    "    \"ConvertedCompYearly\":\"SalaryUSD\"\n",
    "}, inplace=True)"
   ]
  },
  {
   "cell_type": "markdown",
   "id": "338192e9-7f17-41ff-b9ec-e807281f65c9",
   "metadata": {},
   "source": [
    "Remap \"Trans\": "
   ]
  },
  {
   "cell_type": "code",
   "execution_count": 14,
   "id": "3e3c1247-a49a-4a65-afeb-17cd4baf4382",
   "metadata": {},
   "outputs": [
    {
     "data": {
      "text/plain": [
       "False    77275\n",
       "True      1035\n",
       "Name: Trans, dtype: int64"
      ]
     },
     "execution_count": 14,
     "metadata": {},
     "output_type": "execute_result"
    }
   ],
   "source": [
    "df[\"Trans\"].map({'Yes':True, 'No':False}).value_counts()"
   ]
  },
  {
   "cell_type": "markdown",
   "id": "0d66e5d3-b973-4eed-b676-91b5eceae888",
   "metadata": {},
   "source": [
    "This may get other values NaN"
   ]
  },
  {
   "cell_type": "markdown",
   "id": "d97c52fb-2435-4cf2-9a44-cf604fef8451",
   "metadata": {},
   "source": [
    "So use replace "
   ]
  },
  {
   "cell_type": "code",
   "execution_count": 15,
   "id": "56d141d4-bb73-4bef-8110-9fc20c933793",
   "metadata": {},
   "outputs": [
    {
     "data": {
      "text/plain": [
       "False                     77275\n",
       "Prefer not to say          1764\n",
       "True                       1035\n",
       "Or, in your own words:      604\n",
       "Name: Trans, dtype: int64"
      ]
     },
     "execution_count": 15,
     "metadata": {},
     "output_type": "execute_result"
    }
   ],
   "source": [
    "df[\"Trans\"].replace({'Yes':True, 'No':False}).value_counts()"
   ]
  }
 ],
 "metadata": {
  "kernelspec": {
   "display_name": "Python 3 (ipykernel)",
   "language": "python",
   "name": "python3"
  },
  "language_info": {
   "codemirror_mode": {
    "name": "ipython",
    "version": 3
   },
   "file_extension": ".py",
   "mimetype": "text/x-python",
   "name": "python",
   "nbconvert_exporter": "python",
   "pygments_lexer": "ipython3",
   "version": "3.9.1"
  }
 },
 "nbformat": 4,
 "nbformat_minor": 5
}
